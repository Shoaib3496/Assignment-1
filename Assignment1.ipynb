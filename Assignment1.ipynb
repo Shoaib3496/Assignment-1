{
  "nbformat": 4,
  "nbformat_minor": 0,
  "metadata": {
    "colab": {
      "provenance": []
    },
    "kernelspec": {
      "name": "python3",
      "display_name": "Python 3"
    },
    "language_info": {
      "name": "python"
    }
  },
  "cells": [
    {
      "cell_type": "markdown",
      "source": [
        "# Python Basics Questions"
      ],
      "metadata": {
        "id": "tQ1FuuHhe8xR"
      }
    },
    {
      "cell_type": "markdown",
      "source": [
        "1. What is Python, and why is it popular?\n",
        "  - python is a high-level, interpreted and general purpose programming language known its simplicity and readabilty.\n",
        "  - Easy to read syntax\n",
        "  - Large standard library and community support\n",
        "  - Cross platform compatability\n",
        "  - Strong support for multiple paradigms\n",
        "  - Wide range of applications\n",
        "\n",
        "2. What is an interpreter in Python?\n",
        "  - An interpreter is a program that reads and executes python code line by line,converting it into machine readable instructions without needing compilation.Python uses an interpreter to run code.\n",
        "\n",
        "3. What are pre-defined keywords in Python?\n",
        "  - Pre defined keywords are reserved words in python with special meanings that cannot be used as identifers. Examples:if, else, for, while, class, def, True, False, None, import, try, except.\n",
        "\n",
        "4. Can keywords be used as variable names?\n",
        "  - No, keywords cannot be used as variable names because they have predefined meanings in python syntax.\n",
        "\n",
        "5. What is mutability in Python?\n",
        "  - Mutability refers to whether an object's value can be changed after creation.\n",
        "  - Mutable objects can be modified in place(e.g, list, dictionaries, sets)\n",
        "  - Immutable objects cannot be modified after creation(e.g, strings, tuples)\n",
        "\n",
        "6. Why are lists mutable, but tuples are immutable?\n",
        "  - Lists are designed for dynamic changes i.e elements can be added, removed, or modified.\n",
        "  - Tuples are fixed collections meant for read only access, making them hashable and faster access.\n",
        "\n",
        "7. What is the difference between “==” and “is” operators in Python?\n",
        "  - == : checks if values are equal\n",
        "  - is : checks if two variables point to the same object in memory\n",
        "\n",
        "8. What are logical operators in Python?\n",
        "  - Logical operators combine conditional statements:\n",
        "  - and : returns True if atleast both condition are True\n",
        "  - or  : returns True if atleast one condition is True\n",
        "  - not : reverse the boolean value\n",
        "\n",
        "9. What is type casting in Python?\n",
        "  - Type casting is converting a variable from one data type to another\n",
        "\n",
        "10. What is the difference between implicit and explicit type casting?\n",
        "  - Implicit type casting done automatically by python, usually from smaller to larger data types\n",
        "  - Explicit type casting done manually using type functions like int(),\n",
        "  float(), str().\n",
        "\n",
        "11. What is the purpose of conditional statements in Python?\n",
        "  - They allow code to make decisions and execute different blocks based on conditions(e.g, if, elif, else)\n",
        "\n",
        "12. How does the elif statement work?\n",
        "  - elif(else if)lets you check multiple conditions in sequence. Python executes only the first condition that is True and skips the rest.\n",
        "\n",
        "13. What is the difference between for and while loops?\n",
        "  - for loop used when the number of iteration is known, iterates over a sequence.\n",
        "  - while loop used when the number of iterations is unknown, runs while a condition is True.\n",
        "\n",
        "14. Describe a scenario where a while loop is more suitable than a for loop?\n",
        "  - When you don't know in advance how many times you need to repeat an action.\n",
        "  - Example : Keep asking a user for input until they enter \"exit\".\n",
        "\n"
      ],
      "metadata": {
        "id": "vtYD_nbsfIvk"
      }
    },
    {
      "cell_type": "markdown",
      "source": [
        "#Practical Questions"
      ],
      "metadata": {
        "id": "zmV3x5e9Bmcs"
      }
    },
    {
      "cell_type": "markdown",
      "source": [
        "1. Write a Python program to print \"Hello, World!"
      ],
      "metadata": {
        "id": "lkBt4H3FBxiY"
      }
    },
    {
      "cell_type": "code",
      "source": [
        "word=\"Hello, World!\"\n",
        "print(word)"
      ],
      "metadata": {
        "colab": {
          "base_uri": "https://localhost:8080/"
        },
        "id": "aiQfpmeKBtUt",
        "outputId": "b5f396e1-9b7f-43c1-a995-8c0b2b2f3051"
      },
      "execution_count": 1,
      "outputs": [
        {
          "output_type": "stream",
          "name": "stdout",
          "text": [
            "Hello, World!\n"
          ]
        }
      ]
    },
    {
      "cell_type": "markdown",
      "source": [
        "2. Write a Python program that displays your name and age"
      ],
      "metadata": {
        "id": "nwxRjJ0CCMyU"
      }
    },
    {
      "cell_type": "code",
      "source": [
        "Name=input(\"Enter your name:\")\n",
        "Age=input(\"Enter your age:\")\n",
        "print(\"Your Name is:\",Name)\n",
        "print(\"Your Age is:\",Age)"
      ],
      "metadata": {
        "colab": {
          "base_uri": "https://localhost:8080/"
        },
        "id": "lHOGefJZCTKa",
        "outputId": "c40a1170-3ae0-452b-ba50-53379c1fa6aa"
      },
      "execution_count": 4,
      "outputs": [
        {
          "output_type": "stream",
          "name": "stdout",
          "text": [
            "Enter your name:Shoaib\n",
            "Enter your age:21\n",
            "Your Name is: Shoaib\n",
            "Your Age is: 21\n"
          ]
        }
      ]
    },
    {
      "cell_type": "markdown",
      "source": [
        "3. Write code to print all the pre-defined keywords in Python using the keyword library"
      ],
      "metadata": {
        "id": "BURqghk-DEsO"
      }
    },
    {
      "cell_type": "code",
      "source": [
        "import keyword;\n",
        "print(f\"{len(keyword.kwlist)} Keywords:\",keyword.kwlist)"
      ],
      "metadata": {
        "colab": {
          "base_uri": "https://localhost:8080/"
        },
        "id": "KLLMecvwDLwk",
        "outputId": "5b8e27c6-77be-4273-ee6f-e6479477cce5"
      },
      "execution_count": 5,
      "outputs": [
        {
          "output_type": "stream",
          "name": "stdout",
          "text": [
            "35 Keywords: ['False', 'None', 'True', 'and', 'as', 'assert', 'async', 'await', 'break', 'class', 'continue', 'def', 'del', 'elif', 'else', 'except', 'finally', 'for', 'from', 'global', 'if', 'import', 'in', 'is', 'lambda', 'nonlocal', 'not', 'or', 'pass', 'raise', 'return', 'try', 'while', 'with', 'yield']\n"
          ]
        }
      ]
    },
    {
      "cell_type": "markdown",
      "source": [
        "4. Write a program that checks if a given word is a Python keyword"
      ],
      "metadata": {
        "id": "bTYCdmR6EXVP"
      }
    },
    {
      "cell_type": "code",
      "source": [
        "word=input(\"Enter a word:\")\n",
        "if keyword.iskeyword(word):\n",
        "  print(f\"{word} is a python keyword\")\n",
        "else:\n",
        "  print(f\"{word} is not a python keyword\")"
      ],
      "metadata": {
        "colab": {
          "base_uri": "https://localhost:8080/"
        },
        "id": "kyqWOlL7EcRr",
        "outputId": "7bf680fc-8a67-44c4-9101-bb1745a1020a"
      },
      "execution_count": 7,
      "outputs": [
        {
          "output_type": "stream",
          "name": "stdout",
          "text": [
            "Enter a word:while\n",
            "while is a python keyword\n"
          ]
        }
      ]
    },
    {
      "cell_type": "markdown",
      "source": [
        "5.  Create a list and tuple in Python, and demonstrate how attempting to change an element works differently for each"
      ],
      "metadata": {
        "id": "DGION3awF-aB"
      }
    },
    {
      "cell_type": "code",
      "source": [
        "my_list = [10,20,30]\n",
        "print(\"Original List:\",my_list)\n",
        "\n",
        "my_list[1] = 200\n",
        "print(\"Modified List:\",my_list)\n",
        "\n",
        "my_tuple = (10,20,30)\n",
        "print(\"Original Tuple:\",my_tuple)\n",
        "\n",
        "try:\n",
        "  my_tuple[1] = 200\n",
        "except TypeError as e:\n",
        "  print(\"Error when modifying tuple\",e)"
      ],
      "metadata": {
        "colab": {
          "base_uri": "https://localhost:8080/"
        },
        "id": "ruY5kFeVGKhv",
        "outputId": "d15e72af-575f-4fc0-f692-46cd031c17c0"
      },
      "execution_count": 9,
      "outputs": [
        {
          "output_type": "stream",
          "name": "stdout",
          "text": [
            "Original List: [10, 20, 30]\n",
            "Modified List: [10, 200, 30]\n",
            "Original Tuple: (10, 20, 30)\n",
            "Error when modifying tuple 'tuple' object does not support item assignment\n"
          ]
        }
      ]
    },
    {
      "cell_type": "markdown",
      "source": [
        "6.  Write a function to demonstrate the behavior of mutable and immutable arguments"
      ],
      "metadata": {
        "id": "g3PEuWiGSejd"
      }
    },
    {
      "cell_type": "code",
      "source": [
        "def modify_values(text,data):\n",
        "  text += \"World\"\n",
        "  data[\"age\"] = 30\n",
        "\n",
        "  print(\"Inside function - text:\", text)\n",
        "  print(\"Inside function - data:\", data)\n",
        "\n",
        "my_text = \"Hello\"\n",
        "my_data = {\"name\": \"Alice\"}\n",
        "\n",
        "print(\"Before function call - text:\",my_text)\n",
        "print(\"Before function call - data:\",my_data)\n",
        "\n",
        "modify_values(my_text, my_data)\n",
        "\n",
        "print(\"After function call - text:\",my_text)\n",
        "print(\"After function call - data:\",my_data)"
      ],
      "metadata": {
        "colab": {
          "base_uri": "https://localhost:8080/"
        },
        "id": "4Wb-8nh-Sgvh",
        "outputId": "9c1934de-afd7-4303-ab51-7a4efc32e547"
      },
      "execution_count": 11,
      "outputs": [
        {
          "output_type": "stream",
          "name": "stdout",
          "text": [
            "Before function call - text: Hello\n",
            "Before function call - data: {'name': 'Alice'}\n",
            "Inside function - text: HelloWorld\n",
            "Inside function - data: {'name': 'Alice', 'age': 30}\n",
            "After function call - text: Hello\n",
            "After function call - data: {'name': 'Alice', 'age': 30}\n"
          ]
        }
      ]
    },
    {
      "cell_type": "markdown",
      "source": [
        "7.  Write a program that performs basic arithmetic operations on two user-input numbers"
      ],
      "metadata": {
        "id": "JqEQZcKVYeug"
      }
    },
    {
      "cell_type": "code",
      "source": [
        "num_1=float(input(\"Enter the number1:\"))\n",
        "num_2=float(input(\"Enter the number2:\"))\n",
        "num = (num_1 ** num_2)\n",
        "print(\"Answer is:\",num)"
      ],
      "metadata": {
        "colab": {
          "base_uri": "https://localhost:8080/"
        },
        "id": "KqgLxmPQYkhv",
        "outputId": "7a1c974f-5353-4baa-b94c-b140968d3102"
      },
      "execution_count": 18,
      "outputs": [
        {
          "output_type": "stream",
          "name": "stdout",
          "text": [
            "Enter the number1:5\n",
            "Enter the number2:2\n",
            "Answer is: 25.0\n"
          ]
        }
      ]
    },
    {
      "cell_type": "markdown",
      "source": [
        "8.  Write a program to demonstrate the use of logical operators"
      ],
      "metadata": {
        "id": "FyrDKtHAaev5"
      }
    },
    {
      "cell_type": "code",
      "source": [
        "a = int(input(\"Enter first number: \"))\n",
        "b = int(input(\"Enter second number: \"))\n",
        "\n",
        "print(\"\\nLogical Operators Demonstration:\")\n",
        "\n",
        "# AND operator\n",
        "print(f\"({a} > 0) and ({b} > 0) →\", (a > 0) and (b > 0))\n",
        "\n",
        "# OR operator\n",
        "print(f\"({a} > 0) or ({b} > 0) →\", (a > 0) or (b > 0))\n",
        "\n",
        "# NOT operator\n",
        "print(f\"not ({a} > 0) →\", not (a > 0))"
      ],
      "metadata": {
        "colab": {
          "base_uri": "https://localhost:8080/"
        },
        "id": "__IENoExam-i",
        "outputId": "a1e9ce01-79c2-45d1-b238-4f8d7ed2568b"
      },
      "execution_count": 19,
      "outputs": [
        {
          "output_type": "stream",
          "name": "stdout",
          "text": [
            "Enter first number: 5\n",
            "Enter second number: -2\n",
            "\n",
            "Logical Operators Demonstration:\n",
            "(5 > 0) and (-2 > 0) → False\n",
            "(5 > 0) or (-2 > 0) → True\n",
            "not (5 > 0) → False\n"
          ]
        }
      ]
    },
    {
      "cell_type": "markdown",
      "source": [
        "9.  Write a Python program to convert user input from string to integer, float, and boolean types"
      ],
      "metadata": {
        "id": "izJCdx4gdmzQ"
      }
    },
    {
      "cell_type": "code",
      "source": [
        "word=input(\"Enter a Value\")\n",
        "print(\"Integer_Value:\", int(word))\n",
        "print(\"Float_Value:\", float(word))\n",
        "print(\"Boolean_Type:\", bool(word))"
      ],
      "metadata": {
        "colab": {
          "base_uri": "https://localhost:8080/"
        },
        "id": "QT92pZ7wdzu8",
        "outputId": "4b271be8-b1f4-445e-f0bb-df5ec752f675"
      },
      "execution_count": 25,
      "outputs": [
        {
          "output_type": "stream",
          "name": "stdout",
          "text": [
            "Enter a Value25\n",
            "Integer_Value: 25\n",
            "Float_Value: 25.0\n",
            "Boolean_Type: True\n"
          ]
        }
      ]
    },
    {
      "cell_type": "markdown",
      "source": [
        "10. Write code to demonstrate type casting with list elements"
      ],
      "metadata": {
        "id": "XJaptT-EfRTM"
      }
    },
    {
      "cell_type": "code",
      "source": [
        "str_list=[\"10\", \"20\", \"30\"]\n",
        "\n",
        "int_list = [int(i) for i in str_list]\n",
        "print(\"Integers:\",int_list, \"| Type:\", [type(i) for i in int_list])\n",
        "\n",
        "float_list = [float(i) for i in str_list]\n",
        "print(\"Float:\",float_list, \"| Type:\", [type(i) for i in float_list])\n",
        "\n",
        "bool_list = [bool(i) for i in str_list]\n",
        "print(\"Booleans:\", bool_list, \"| Types:\", [type(i) for i in bool_list])"
      ],
      "metadata": {
        "colab": {
          "base_uri": "https://localhost:8080/"
        },
        "id": "RvCsVBvDgyVW",
        "outputId": "ebd5020b-6176-4ced-b715-97ed8af860ff"
      },
      "execution_count": 34,
      "outputs": [
        {
          "output_type": "stream",
          "name": "stdout",
          "text": [
            "Integers: [10, 20, 30] | Type: [<class 'int'>, <class 'int'>, <class 'int'>]\n",
            "Float: [10.0, 20.0, 30.0] | Type: [<class 'float'>, <class 'float'>, <class 'float'>]\n",
            "As Booleans: [True, True, True] | Types: [<class 'bool'>, <class 'bool'>, <class 'bool'>]\n"
          ]
        }
      ]
    },
    {
      "cell_type": "markdown",
      "source": [
        "11.  Write a program that checks if a number is positive, negative, or zero"
      ],
      "metadata": {
        "id": "g-b-5jGal7hd"
      }
    },
    {
      "cell_type": "code",
      "source": [
        "num = int(input(\"Enter a number:\"))\n",
        "\n",
        "if(num > 0):\n",
        "  print(\"Number is positive\")\n",
        "if(num < 0):\n",
        "  print(\"Number is negative\")\n",
        "if(num == 0):\n",
        "  print(\"Number is zero\")"
      ],
      "metadata": {
        "colab": {
          "base_uri": "https://localhost:8080/"
        },
        "id": "zNoRzkYKmBBL",
        "outputId": "aabc5510-0e82-4622-d4d1-3ce074a9c52a"
      },
      "execution_count": 37,
      "outputs": [
        {
          "output_type": "stream",
          "name": "stdout",
          "text": [
            "Enter a number:-2\n",
            "Number is negative\n"
          ]
        }
      ]
    },
    {
      "cell_type": "markdown",
      "source": [
        "12. Write a for loop to print numbers from 1 to 10"
      ],
      "metadata": {
        "id": "Zej25GhlnAnL"
      }
    },
    {
      "cell_type": "code",
      "source": [
        "for i in range(1,11):\n",
        "  print(i)"
      ],
      "metadata": {
        "colab": {
          "base_uri": "https://localhost:8080/"
        },
        "id": "0EI_IXUTnFuh",
        "outputId": "f194ce4a-3419-40fe-e3b6-f755f30ac91d"
      },
      "execution_count": 38,
      "outputs": [
        {
          "output_type": "stream",
          "name": "stdout",
          "text": [
            "1\n",
            "2\n",
            "3\n",
            "4\n",
            "5\n",
            "6\n",
            "7\n",
            "8\n",
            "9\n",
            "10\n"
          ]
        }
      ]
    },
    {
      "cell_type": "markdown",
      "source": [
        "13.  Write a Python program to find the sum of all even numbers between 1 and 50"
      ],
      "metadata": {
        "id": "3FhWmUiaoEjt"
      }
    },
    {
      "cell_type": "code",
      "source": [
        "count = 0\n",
        "for i in range(1,51):\n",
        "  if(i % 2 == 0):\n",
        "    count += i\n",
        "print(\"Total Sum:\",count)"
      ],
      "metadata": {
        "colab": {
          "base_uri": "https://localhost:8080/"
        },
        "id": "tTflQtOmoIqU",
        "outputId": "ea211395-edcc-4eec-9234-975803883daa"
      },
      "execution_count": 43,
      "outputs": [
        {
          "output_type": "stream",
          "name": "stdout",
          "text": [
            "Total Sum: 650\n"
          ]
        }
      ]
    },
    {
      "cell_type": "markdown",
      "source": [
        "14.  Write a program to reverse a string using a while loop"
      ],
      "metadata": {
        "id": "2WVhaMfmpn1F"
      }
    },
    {
      "cell_type": "code",
      "source": [
        "text = input(\"Enter a String:\")\n",
        "\n",
        "reverse_text = \"\"\n",
        "i = len(text) - 1\n",
        "\n",
        "while i >= 0:\n",
        "  reverse_text += text[i]\n",
        "  i -= 1\n",
        "\n",
        "print(\"Reverse String:\", reverse_text)"
      ],
      "metadata": {
        "colab": {
          "base_uri": "https://localhost:8080/"
        },
        "id": "rDyOmGo9ptZi",
        "outputId": "529dd508-211f-4a8f-8cb6-c03259b04aa6"
      },
      "execution_count": 46,
      "outputs": [
        {
          "output_type": "stream",
          "name": "stdout",
          "text": [
            "Enter a String:python\n",
            "Reverse String: nohtyp\n"
          ]
        }
      ]
    },
    {
      "cell_type": "markdown",
      "source": [
        "15. Write a Python program to calculate the factorial of a number provided by the user using a while loop"
      ],
      "metadata": {
        "id": "iwqTLFozr0Je"
      }
    },
    {
      "cell_type": "code",
      "source": [
        "Num = int(input(\"Enter a number:\"))\n",
        "\n",
        "fact = 1\n",
        "i = 1\n",
        "\n",
        "while i <= Num:\n",
        "  fact *= i\n",
        "  i += 1\n",
        "\n",
        "print(\"Factorial of Num:\", fact)\n"
      ],
      "metadata": {
        "colab": {
          "base_uri": "https://localhost:8080/"
        },
        "id": "3zjiBBQBr502",
        "outputId": "41c3e64b-305f-4abe-ce34-d1482f8e79e1"
      },
      "execution_count": 51,
      "outputs": [
        {
          "output_type": "stream",
          "name": "stdout",
          "text": [
            "Enter a number:5\n",
            "Factorial of Num: 120\n"
          ]
        }
      ]
    }
  ]
}